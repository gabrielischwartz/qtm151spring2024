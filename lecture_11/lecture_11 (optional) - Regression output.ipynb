{
 "cells": [
  {
   "attachments": {},
   "cell_type": "markdown",
   "metadata": {},
   "source": [
    "# <span style=\"color:darkblue\"> Lecture 11 (Optional): Regression Output </span>\n",
    "\n",
    "<font size = \"5\">\n",
    "\n",
    "This is an optional lecture file\n",
    "\n",
    "- This is only recommended if you've taken statistics courses \n",
    "- This lecture will not be formally evaluated\n",
    "- Keep this in material in mind for future courses\n"
   ]
  },
  {
   "attachments": {},
   "cell_type": "markdown",
   "metadata": {},
   "source": [
    "# <span style=\"color:darkblue\"> I. Import Libraries </span>\n"
   ]
  },
  {
   "cell_type": "code",
   "execution_count": 1,
   "metadata": {},
   "outputs": [],
   "source": [
    "# The \"pandas\" library is used for processing datasets\n",
    "# The \"numpy\" is for numeric observations and random numbers\n",
    "# The \"matplotlib.pyplot\" library is for creating graphs\n",
    "\n",
    "import pandas as pd\n",
    "import numpy as np\n",
    "import matplotlib.pyplot as plt"
   ]
  },
  {
   "attachments": {},
   "cell_type": "markdown",
   "metadata": {},
   "source": [
    "<font size = \"5\">\n",
    "\n",
    "Install the \"statsmodels\" library\n",
    "- Run \"pip3 install statsmodels\" in the terminal\n",
    "- Automatically included in Anaconda"
   ]
  },
  {
   "cell_type": "code",
   "execution_count": 2,
   "metadata": {},
   "outputs": [],
   "source": [
    "# We will \"alias\" two sublibraries in \"statsmodels\"\n",
    "# \"statsmodels.formula.api\" contains functions to estimate models\n",
    "# \"statsmodels.api\" contains general-use statistical options\n",
    "\n",
    "import statsmodels.api as sm\n",
    "import statsmodels.formula.api as smf\n",
    "from statsmodels.iolib.summary2 import summary_col\n"
   ]
  },
  {
   "attachments": {},
   "cell_type": "markdown",
   "metadata": {},
   "source": [
    "# <span style=\"color:darkblue\"> II. Generate Simulated Data </span>\n",
    "\n",
    "<font size = \"5\">\n",
    "\n",
    "Create an empty dataset"
   ]
  },
  {
   "cell_type": "code",
   "execution_count": 3,
   "metadata": {},
   "outputs": [],
   "source": [
    "dataset = pd.DataFrame()"
   ]
  },
  {
   "attachments": {},
   "cell_type": "markdown",
   "metadata": {},
   "source": [
    "<font size = \"5\">\n",
    "\n",
    "Create four random variables of size ($n = 100$)"
   ]
  },
  {
   "cell_type": "code",
   "execution_count": 4,
   "metadata": {},
   "outputs": [],
   "source": [
    "n = 100\n",
    "np.random.seed(42)\n",
    "dataset[\"x\"] = np.random.normal(loc = 0,scale = 1, size = n)\n",
    "dataset[\"z\"] = np.random.normal(loc = 0,scale = 1, size = n)\n",
    "dataset[\"e\"] = np.random.normal(loc = 0,scale = 1, size = n)\n",
    "dataset[\"z with spaces\"] = dataset[\"z\"]"
   ]
  },
  {
   "attachments": {},
   "cell_type": "markdown",
   "metadata": {},
   "source": [
    "<font size = \"5\">\n",
    "\n",
    "Create discre random variable ($n = 100$)"
   ]
  },
  {
   "cell_type": "code",
   "execution_count": 16,
   "metadata": {},
   "outputs": [
    {
     "data": {
      "text/html": [
       "<div>\n",
       "<style scoped>\n",
       "    .dataframe tbody tr th:only-of-type {\n",
       "        vertical-align: middle;\n",
       "    }\n",
       "\n",
       "    .dataframe tbody tr th {\n",
       "        vertical-align: top;\n",
       "    }\n",
       "\n",
       "    .dataframe thead th {\n",
       "        text-align: right;\n",
       "    }\n",
       "</style>\n",
       "<table border=\"1\" class=\"dataframe\">\n",
       "  <thead>\n",
       "    <tr style=\"text-align: right;\">\n",
       "      <th></th>\n",
       "      <th>x</th>\n",
       "      <th>z</th>\n",
       "      <th>e</th>\n",
       "      <th>z with spaces</th>\n",
       "      <th>d</th>\n",
       "      <th>y</th>\n",
       "    </tr>\n",
       "  </thead>\n",
       "  <tbody>\n",
       "    <tr>\n",
       "      <th>0</th>\n",
       "      <td>0.496714</td>\n",
       "      <td>-1.415371</td>\n",
       "      <td>0.357787</td>\n",
       "      <td>-1.415371</td>\n",
       "      <td>1</td>\n",
       "      <td>4.661289</td>\n",
       "    </tr>\n",
       "    <tr>\n",
       "      <th>1</th>\n",
       "      <td>-0.138264</td>\n",
       "      <td>-0.420645</td>\n",
       "      <td>0.560785</td>\n",
       "      <td>-0.420645</td>\n",
       "      <td>2</td>\n",
       "      <td>1.231142</td>\n",
       "    </tr>\n",
       "    <tr>\n",
       "      <th>2</th>\n",
       "      <td>0.647689</td>\n",
       "      <td>-0.342715</td>\n",
       "      <td>1.083051</td>\n",
       "      <td>-0.342715</td>\n",
       "      <td>3</td>\n",
       "      <td>5.939923</td>\n",
       "    </tr>\n",
       "    <tr>\n",
       "      <th>3</th>\n",
       "      <td>1.523030</td>\n",
       "      <td>-0.802277</td>\n",
       "      <td>1.053802</td>\n",
       "      <td>-0.802277</td>\n",
       "      <td>3</td>\n",
       "      <td>11.220121</td>\n",
       "    </tr>\n",
       "    <tr>\n",
       "      <th>4</th>\n",
       "      <td>-0.234153</td>\n",
       "      <td>-0.161286</td>\n",
       "      <td>-1.377669</td>\n",
       "      <td>-0.161286</td>\n",
       "      <td>3</td>\n",
       "      <td>1.151819</td>\n",
       "    </tr>\n",
       "    <tr>\n",
       "      <th>...</th>\n",
       "      <td>...</td>\n",
       "      <td>...</td>\n",
       "      <td>...</td>\n",
       "      <td>...</td>\n",
       "      <td>...</td>\n",
       "      <td>...</td>\n",
       "    </tr>\n",
       "    <tr>\n",
       "      <th>95</th>\n",
       "      <td>-1.463515</td>\n",
       "      <td>0.385317</td>\n",
       "      <td>-0.692910</td>\n",
       "      <td>0.385317</td>\n",
       "      <td>3</td>\n",
       "      <td>-4.303491</td>\n",
       "    </tr>\n",
       "    <tr>\n",
       "      <th>96</th>\n",
       "      <td>0.296120</td>\n",
       "      <td>-0.883857</td>\n",
       "      <td>0.899600</td>\n",
       "      <td>-0.883857</td>\n",
       "      <td>3</td>\n",
       "      <td>3.746991</td>\n",
       "    </tr>\n",
       "    <tr>\n",
       "      <th>97</th>\n",
       "      <td>0.261055</td>\n",
       "      <td>0.153725</td>\n",
       "      <td>0.307300</td>\n",
       "      <td>0.153725</td>\n",
       "      <td>2</td>\n",
       "      <td>3.385499</td>\n",
       "    </tr>\n",
       "    <tr>\n",
       "      <th>98</th>\n",
       "      <td>0.005113</td>\n",
       "      <td>0.058209</td>\n",
       "      <td>0.812862</td>\n",
       "      <td>0.058209</td>\n",
       "      <td>3</td>\n",
       "      <td>2.029724</td>\n",
       "    </tr>\n",
       "    <tr>\n",
       "      <th>99</th>\n",
       "      <td>-0.234587</td>\n",
       "      <td>-1.142970</td>\n",
       "      <td>0.629629</td>\n",
       "      <td>-1.142970</td>\n",
       "      <td>2</td>\n",
       "      <td>0.679362</td>\n",
       "    </tr>\n",
       "  </tbody>\n",
       "</table>\n",
       "<p>100 rows × 6 columns</p>\n",
       "</div>"
      ],
      "text/plain": [
       "           x         z         e  z with spaces  d          y\n",
       "0   0.496714 -1.415371  0.357787      -1.415371  1   4.661289\n",
       "1  -0.138264 -0.420645  0.560785      -0.420645  2   1.231142\n",
       "2   0.647689 -0.342715  1.083051      -0.342715  3   5.939923\n",
       "3   1.523030 -0.802277  1.053802      -0.802277  3  11.220121\n",
       "4  -0.234153 -0.161286 -1.377669      -0.161286  3   1.151819\n",
       "..       ...       ...       ...            ... ..        ...\n",
       "95 -1.463515  0.385317 -0.692910       0.385317  3  -4.303491\n",
       "96  0.296120 -0.883857  0.899600      -0.883857  3   3.746991\n",
       "97  0.261055  0.153725  0.307300       0.153725  2   3.385499\n",
       "98  0.005113  0.058209  0.812862       0.058209  3   2.029724\n",
       "99 -0.234587 -1.142970  0.629629      -1.142970  2   0.679362\n",
       "\n",
       "[100 rows x 6 columns]"
      ]
     },
     "execution_count": 16,
     "metadata": {},
     "output_type": "execute_result"
    }
   ],
   "source": [
    "dataset[\"d\"] = np.random.choice(a = [1,2,3],\n",
    "                                size = n,\n",
    "                                p = [0.2,0.2,0.6])\n",
    "dataset"
   ]
  },
  {
   "attachments": {},
   "cell_type": "markdown",
   "metadata": {},
   "source": [
    "<font size = \"5\">\n",
    "\n",
    "Create data from the linear model\n",
    "\n",
    "$ y = 2 + 5 x + e$"
   ]
  },
  {
   "cell_type": "code",
   "execution_count": 18,
   "metadata": {},
   "outputs": [
    {
     "data": {
      "text/html": [
       "<div>\n",
       "<style scoped>\n",
       "    .dataframe tbody tr th:only-of-type {\n",
       "        vertical-align: middle;\n",
       "    }\n",
       "\n",
       "    .dataframe tbody tr th {\n",
       "        vertical-align: top;\n",
       "    }\n",
       "\n",
       "    .dataframe thead th {\n",
       "        text-align: right;\n",
       "    }\n",
       "</style>\n",
       "<table border=\"1\" class=\"dataframe\">\n",
       "  <thead>\n",
       "    <tr style=\"text-align: right;\">\n",
       "      <th></th>\n",
       "      <th>x</th>\n",
       "      <th>z</th>\n",
       "      <th>e</th>\n",
       "      <th>z with spaces</th>\n",
       "      <th>d</th>\n",
       "      <th>y</th>\n",
       "    </tr>\n",
       "  </thead>\n",
       "  <tbody>\n",
       "    <tr>\n",
       "      <th>0</th>\n",
       "      <td>0.496714</td>\n",
       "      <td>-1.415371</td>\n",
       "      <td>0.357787</td>\n",
       "      <td>-1.415371</td>\n",
       "      <td>1</td>\n",
       "      <td>4.661289</td>\n",
       "    </tr>\n",
       "    <tr>\n",
       "      <th>1</th>\n",
       "      <td>-0.138264</td>\n",
       "      <td>-0.420645</td>\n",
       "      <td>0.560785</td>\n",
       "      <td>-0.420645</td>\n",
       "      <td>2</td>\n",
       "      <td>1.231142</td>\n",
       "    </tr>\n",
       "    <tr>\n",
       "      <th>2</th>\n",
       "      <td>0.647689</td>\n",
       "      <td>-0.342715</td>\n",
       "      <td>1.083051</td>\n",
       "      <td>-0.342715</td>\n",
       "      <td>3</td>\n",
       "      <td>5.939923</td>\n",
       "    </tr>\n",
       "    <tr>\n",
       "      <th>3</th>\n",
       "      <td>1.523030</td>\n",
       "      <td>-0.802277</td>\n",
       "      <td>1.053802</td>\n",
       "      <td>-0.802277</td>\n",
       "      <td>3</td>\n",
       "      <td>11.220121</td>\n",
       "    </tr>\n",
       "    <tr>\n",
       "      <th>4</th>\n",
       "      <td>-0.234153</td>\n",
       "      <td>-0.161286</td>\n",
       "      <td>-1.377669</td>\n",
       "      <td>-0.161286</td>\n",
       "      <td>3</td>\n",
       "      <td>1.151819</td>\n",
       "    </tr>\n",
       "    <tr>\n",
       "      <th>...</th>\n",
       "      <td>...</td>\n",
       "      <td>...</td>\n",
       "      <td>...</td>\n",
       "      <td>...</td>\n",
       "      <td>...</td>\n",
       "      <td>...</td>\n",
       "    </tr>\n",
       "    <tr>\n",
       "      <th>95</th>\n",
       "      <td>-1.463515</td>\n",
       "      <td>0.385317</td>\n",
       "      <td>-0.692910</td>\n",
       "      <td>0.385317</td>\n",
       "      <td>3</td>\n",
       "      <td>-4.303491</td>\n",
       "    </tr>\n",
       "    <tr>\n",
       "      <th>96</th>\n",
       "      <td>0.296120</td>\n",
       "      <td>-0.883857</td>\n",
       "      <td>0.899600</td>\n",
       "      <td>-0.883857</td>\n",
       "      <td>3</td>\n",
       "      <td>3.746991</td>\n",
       "    </tr>\n",
       "    <tr>\n",
       "      <th>97</th>\n",
       "      <td>0.261055</td>\n",
       "      <td>0.153725</td>\n",
       "      <td>0.307300</td>\n",
       "      <td>0.153725</td>\n",
       "      <td>2</td>\n",
       "      <td>3.385499</td>\n",
       "    </tr>\n",
       "    <tr>\n",
       "      <th>98</th>\n",
       "      <td>0.005113</td>\n",
       "      <td>0.058209</td>\n",
       "      <td>0.812862</td>\n",
       "      <td>0.058209</td>\n",
       "      <td>3</td>\n",
       "      <td>2.029724</td>\n",
       "    </tr>\n",
       "    <tr>\n",
       "      <th>99</th>\n",
       "      <td>-0.234587</td>\n",
       "      <td>-1.142970</td>\n",
       "      <td>0.629629</td>\n",
       "      <td>-1.142970</td>\n",
       "      <td>2</td>\n",
       "      <td>0.679362</td>\n",
       "    </tr>\n",
       "  </tbody>\n",
       "</table>\n",
       "<p>100 rows × 6 columns</p>\n",
       "</div>"
      ],
      "text/plain": [
       "           x         z         e  z with spaces  d          y\n",
       "0   0.496714 -1.415371  0.357787      -1.415371  1   4.661289\n",
       "1  -0.138264 -0.420645  0.560785      -0.420645  2   1.231142\n",
       "2   0.647689 -0.342715  1.083051      -0.342715  3   5.939923\n",
       "3   1.523030 -0.802277  1.053802      -0.802277  3  11.220121\n",
       "4  -0.234153 -0.161286 -1.377669      -0.161286  3   1.151819\n",
       "..       ...       ...       ...            ... ..        ...\n",
       "95 -1.463515  0.385317 -0.692910       0.385317  3  -4.303491\n",
       "96  0.296120 -0.883857  0.899600      -0.883857  3   3.746991\n",
       "97  0.261055  0.153725  0.307300       0.153725  2   3.385499\n",
       "98  0.005113  0.058209  0.812862       0.058209  3   2.029724\n",
       "99 -0.234587 -1.142970  0.629629      -1.142970  2   0.679362\n",
       "\n",
       "[100 rows x 6 columns]"
      ]
     },
     "execution_count": 18,
     "metadata": {},
     "output_type": "execute_result"
    }
   ],
   "source": [
    "# We can compute formulas directly over dataset columns\n",
    "dataset[\"y\"] =2 + 5* dataset[\"x\"] + dataset[\"x\"]*dataset[\"e\"]\n",
    "dataset"
   ]
  },
  {
   "attachments": {},
   "cell_type": "markdown",
   "metadata": {},
   "source": [
    "# <span style=\"color:darkblue\"> III. Regression Tables </span>\n"
   ]
  },
  {
   "attachments": {},
   "cell_type": "markdown",
   "metadata": {},
   "source": [
    "<font size = \"5\">\n",
    "\n",
    "Summaries for univariate regression"
   ]
  },
  {
   "cell_type": "code",
   "execution_count": 27,
   "metadata": {},
   "outputs": [
    {
     "name": "stdout",
     "output_type": "stream",
     "text": [
      "\n",
      "========================\n",
      "                   y    \n",
      "------------------------\n",
      "Intercept      2.1681***\n",
      "               (0.0967) \n",
      "x              4.8922***\n",
      "               (0.1553) \n",
      "R-squared      0.9575   \n",
      "R-squared Adj. 0.9571   \n",
      "========================\n",
      "Standard errors in\n",
      "parentheses.\n",
      "* p<.1, ** p<.05,\n",
      "***p<.01\n"
     ]
    }
   ],
   "source": [
    "# Run the model with multiple variables by using \"+\"\n",
    "\n",
    "results_univariate = smf.ols(formula = 'y ~ x', data = dataset).fit(cov_type= \"HC1\")\n",
    "# The \"summary_col\" functions produces nice outputs\n",
    "# We can add notation for significance by setting \"stars\" to True\n",
    "print(summary_col(results_univariate,\n",
    "                  stars = True))\n",
    "\n"
   ]
  },
  {
   "cell_type": "code",
   "execution_count": 8,
   "metadata": {},
   "outputs": [
    {
     "name": "stdout",
     "output_type": "stream",
     "text": [
      "                            OLS Regression Results                            \n",
      "==============================================================================\n",
      "Dep. Variable:                      y   R-squared:                       0.958\n",
      "Model:                            OLS   Adj. R-squared:                  0.957\n",
      "Method:                 Least Squares   F-statistic:                     992.7\n",
      "Date:                Mon, 26 Feb 2024   Prob (F-statistic):           4.44e-53\n",
      "Time:                        10:48:25   Log-Likelihood:                -134.75\n",
      "No. Observations:                 100   AIC:                             273.5\n",
      "Df Residuals:                      98   BIC:                             278.7\n",
      "Df Model:                           1                                         \n",
      "Covariance Type:                  HC1                                         \n",
      "==============================================================================\n",
      "                 coef    std err          z      P>|z|      [0.025      0.975]\n",
      "------------------------------------------------------------------------------\n",
      "Intercept      2.1681      0.097     22.419      0.000       1.979       2.358\n",
      "x              4.8922      0.155     31.507      0.000       4.588       5.197\n",
      "==============================================================================\n",
      "Omnibus:                       24.890   Durbin-Watson:                   1.989\n",
      "Prob(Omnibus):                  0.000   Jarque-Bera (JB):               48.096\n",
      "Skew:                           0.980   Prob(JB):                     3.60e-11\n",
      "Kurtosis:                       5.775   Cond. No.                         1.16\n",
      "==============================================================================\n",
      "\n",
      "Notes:\n",
      "[1] Standard Errors are heteroscedasticity robust (HC1)\n"
     ]
    }
   ],
   "source": [
    "print(results_univariate.summary())"
   ]
  },
  {
   "attachments": {},
   "cell_type": "markdown",
   "metadata": {},
   "source": [
    "<font size = \"5\">\n",
    "\n",
    "Summaries for multivariate regression"
   ]
  },
  {
   "cell_type": "code",
   "execution_count": 28,
   "metadata": {},
   "outputs": [
    {
     "name": "stdout",
     "output_type": "stream",
     "text": [
      "\n",
      "========================\n",
      "                   y    \n",
      "------------------------\n",
      "Intercept      2.1683***\n",
      "               (0.0971) \n",
      "x              4.8880***\n",
      "               (0.1565) \n",
      "z              -0.0295  \n",
      "               (0.1049) \n",
      "R-squared      0.9576   \n",
      "R-squared Adj. 0.9567   \n",
      "========================\n",
      "Standard errors in\n",
      "parentheses.\n",
      "* p<.1, ** p<.05,\n",
      "***p<.01\n"
     ]
    }
   ],
   "source": [
    "# Run the model with multiple variables by using \"+\"\n",
    "results_multivariate = smf.ols(formula = 'y ~ x + z',\n",
    "                               data = dataset).fit(cov_type = \"HC1\")\n",
    "print(summary_col(results_multivariate,\n",
    "                  stars = True))"
   ]
  },
  {
   "attachments": {},
   "cell_type": "markdown",
   "metadata": {},
   "source": [
    "<font size = \"5\">\n",
    "\n",
    "Summaries for multivariate regression + colnames w/ spaces"
   ]
  },
  {
   "cell_type": "code",
   "execution_count": 29,
   "metadata": {},
   "outputs": [
    {
     "name": "stdout",
     "output_type": "stream",
     "text": [
      "\n",
      "============================\n",
      "                       y    \n",
      "----------------------------\n",
      "Intercept          2.1683***\n",
      "                   (0.0971) \n",
      "x                  4.8880***\n",
      "                   (0.1565) \n",
      "Q(\"z with spaces\") -0.0295  \n",
      "                   (0.1049) \n",
      "R-squared          0.9576   \n",
      "R-squared Adj.     0.9567   \n",
      "============================\n",
      "Standard errors in\n",
      "parentheses.\n",
      "* p<.1, ** p<.05, ***p<.01\n"
     ]
    }
   ],
   "source": [
    "# Use Q(\"...\") to reference variables that\n",
    "# have spaces in the name\n",
    "results_multivariate_spaces = smf.ols(formula = 'y ~ x + Q(\"z with spaces\") ',\n",
    "                                      data = dataset).fit(cov_type = \"HC1\")\n",
    "print(summary_col(results_multivariate_spaces,\n",
    "                  stars = True))"
   ]
  },
  {
   "attachments": {},
   "cell_type": "markdown",
   "metadata": {},
   "source": [
    "<font size = \"5\">\n",
    "\n",
    "Summaries for multivariate regression + categories"
   ]
  },
  {
   "cell_type": "code",
   "execution_count": 30,
   "metadata": {},
   "outputs": [
    {
     "name": "stdout",
     "output_type": "stream",
     "text": [
      "\n",
      "========================\n",
      "                   y    \n",
      "------------------------\n",
      "Intercept      2.0183***\n",
      "               (0.1735) \n",
      "C(d)[T.2]      0.1538   \n",
      "               (0.2453) \n",
      "C(d)[T.3]      0.1827   \n",
      "               (0.2124) \n",
      "x              4.8946***\n",
      "               (0.1555) \n",
      "R-squared      0.9577   \n",
      "R-squared Adj. 0.9564   \n",
      "========================\n",
      "Standard errors in\n",
      "parentheses.\n",
      "* p<.1, ** p<.05,\n",
      "***p<.01\n"
     ]
    }
   ],
   "source": [
    "# Run the model with multiple variables by using \"+\"\n",
    "# This creates a set of distinct indicator variables for each category\n",
    "results_multivariate_category = smf.ols(formula = 'y ~ x + C(d)',\n",
    "                                        data = dataset).fit(cov_type = \"HC1\")\n",
    "\n",
    "# The results are reported with a base category, T.1\n",
    "print(summary_col(results_multivariate_category,\n",
    "                  stars = True))"
   ]
  },
  {
   "attachments": {},
   "cell_type": "markdown",
   "metadata": {},
   "source": [
    "<font size = \"5\">\n",
    "\n",
    "Summaries for multivariate regression + interaction"
   ]
  },
  {
   "cell_type": "code",
   "execution_count": 31,
   "metadata": {},
   "outputs": [
    {
     "name": "stdout",
     "output_type": "stream",
     "text": [
      "\n",
      "========================\n",
      "                   y    \n",
      "------------------------\n",
      "Intercept      2.1720***\n",
      "               (0.0967) \n",
      "x              4.8749***\n",
      "               (0.1653) \n",
      "z              -0.0188  \n",
      "               (0.1113) \n",
      "z:x            0.0439   \n",
      "               (0.1412) \n",
      "R-squared      0.9576   \n",
      "R-squared Adj. 0.9563   \n",
      "========================\n",
      "Standard errors in\n",
      "parentheses.\n",
      "* p<.1, ** p<.05,\n",
      "***p<.01\n"
     ]
    }
   ],
   "source": [
    "# Run the model with multiple variables by using \"+\"\n",
    "# This creates a set of distinct indicator variables for each category\n",
    "results_multivariate_interaction = smf.ols(formula = 'y ~ x + z + z:x',\n",
    "                                        data = dataset).fit(cov_type = \"HC1\")\n",
    "\n",
    "# The results are reported with a base category, T.1\n",
    "print(summary_col(results_multivariate_interaction,\n",
    "                  stars = True))"
   ]
  },
  {
   "attachments": {},
   "cell_type": "markdown",
   "metadata": {},
   "source": [
    "# <span style=\"color:darkblue\"> IV. Professional Tables </span>\n"
   ]
  },
  {
   "attachments": {},
   "cell_type": "markdown",
   "metadata": {},
   "source": [
    "<font size = \"5\">\n",
    "\n",
    "Summaries for multiple columns"
   ]
  },
  {
   "cell_type": "code",
   "execution_count": 35,
   "metadata": {},
   "outputs": [
    {
     "name": "stdout",
     "output_type": "stream",
     "text": [
      "\n",
      "======================================================\n",
      "                  y I       y II     y III     y IIII \n",
      "------------------------------------------------------\n",
      "C(d)[T.2]                          0.1538             \n",
      "                                   (0.2453)           \n",
      "C(d)[T.3]                          0.1827             \n",
      "                                   (0.2124)           \n",
      "Intercept      2.1681*** 2.1683*** 2.0183*** 2.1720***\n",
      "               (0.0967)  (0.0971)  (0.1735)  (0.0967) \n",
      "R-squared      0.9575    0.9576    0.9577    0.9576   \n",
      "R-squared Adj. 0.9571    0.9567    0.9564    0.9563   \n",
      "x              4.8922*** 4.8880*** 4.8946*** 4.8749***\n",
      "               (0.1553)  (0.1565)  (0.1555)  (0.1653) \n",
      "z                        -0.0295             -0.0188  \n",
      "                         (0.1049)            (0.1113) \n",
      "z:x                                          0.0439   \n",
      "                                             (0.1412) \n",
      "======================================================\n",
      "Standard errors in parentheses.\n",
      "* p<.1, ** p<.05, ***p<.01\n"
     ]
    }
   ],
   "source": [
    "list_results = [results_univariate,\n",
    "                results_multivariate,\n",
    "                results_multivariate_category,\n",
    "                results_multivariate_interaction]\n",
    "\n",
    "print(summary_col(list_results,\n",
    "                  stars = True))\n"
   ]
  },
  {
   "attachments": {},
   "cell_type": "markdown",
   "metadata": {},
   "source": [
    "<font size = \"5\">\n",
    "\n",
    "Summaries for multiple columns (sorted + titled + stats)"
   ]
  },
  {
   "cell_type": "code",
   "execution_count": 36,
   "metadata": {},
   "outputs": [
    {
     "name": "stdout",
     "output_type": "stream",
     "text": [
      "\n",
      "==============================================================\n",
      "               Univariate Multivariate Categorical Interaction\n",
      "--------------------------------------------------------------\n",
      "x              4.8922***  4.8880***    4.8946***   4.8749***  \n",
      "               (0.1553)   (0.1565)     (0.1555)    (0.1653)   \n",
      "z                         -0.0295                  -0.0188    \n",
      "                          (0.1049)                 (0.1113)   \n",
      "z:x                                                0.0439     \n",
      "                                                   (0.1412)   \n",
      "C(d)[T.2]                              0.1538                 \n",
      "                                       (0.2453)               \n",
      "C(d)[T.3]                              0.1827                 \n",
      "                                       (0.2124)               \n",
      "Intercept      2.1681***  2.1683***    2.0183***   2.1720***  \n",
      "               (0.0967)   (0.0971)     (0.1735)    (0.0967)   \n",
      "R-squared      0.9575     0.9576       0.9577      0.9576     \n",
      "R-squared Adj. 0.9571     0.9567       0.9564      0.9563     \n",
      "N              100        100          100         100        \n",
      "==============================================================\n",
      "Standard errors in parentheses.\n",
      "* p<.1, ** p<.05, ***p<.01\n"
     ]
    }
   ],
   "source": [
    "# This list inputs the headings of the table\n",
    "list_headings   = [\"Univariate\",\n",
    "                   \"Multivariate\",\n",
    "                   \"Categorical\",\n",
    "                   \"Interaction\"]\n",
    "\n",
    "# This is the list of regressor names (if you want a particular order)\n",
    "list_regressors = [\"x\",\n",
    "                   \"z\",\n",
    "                   \"z:x\",\n",
    "                   \"C(d)[T.2]\",\n",
    "                   \"C(d)[T.3]\"]\n",
    "\n",
    "# This is a function that extracts the sample size\n",
    "# Can use with other summary statistics\n",
    "# \"nobs\" is the number of observations\n",
    "compute_summary = {'N':lambda model: format(int(model.nobs))}\n",
    "\n",
    "print(summary_col(list_results,\n",
    "                  stars = True,\n",
    "                  model_names = list_headings,\n",
    "                  info_dict={'N':lambda x: format(int(x.nobs))},\n",
    "                  regressor_order = [\"x\",\"z\",\"z:x\",\"C(d)[T.2]\",\"C(d)[T.3]\"]))"
   ]
  },
  {
   "attachments": {},
   "cell_type": "markdown",
   "metadata": {},
   "source": [
    "<font size = \"5\">\n",
    "\n",
    "Detailed table"
   ]
  },
  {
   "cell_type": "code",
   "execution_count": 34,
   "metadata": {},
   "outputs": [
    {
     "name": "stdout",
     "output_type": "stream",
     "text": [
      "                            OLS Regression Results                            \n",
      "==============================================================================\n",
      "Dep. Variable:                      y   R-squared:                       0.958\n",
      "Model:                            OLS   Adj. R-squared:                  0.957\n",
      "Method:                 Least Squares   F-statistic:                     992.7\n",
      "Date:                Mon, 26 Feb 2024   Prob (F-statistic):           4.44e-53\n",
      "Time:                        13:22:47   Log-Likelihood:                -134.75\n",
      "No. Observations:                 100   AIC:                             273.5\n",
      "Df Residuals:                      98   BIC:                             278.7\n",
      "Df Model:                           1                                         \n",
      "Covariance Type:                  HC1                                         \n",
      "==============================================================================\n",
      "                 coef    std err          z      P>|z|      [0.025      0.975]\n",
      "------------------------------------------------------------------------------\n",
      "Intercept      2.1681      0.097     22.419      0.000       1.979       2.358\n",
      "x              4.8922      0.155     31.507      0.000       4.588       5.197\n",
      "==============================================================================\n",
      "Omnibus:                       24.890   Durbin-Watson:                   1.989\n",
      "Prob(Omnibus):                  0.000   Jarque-Bera (JB):               48.096\n",
      "Skew:                           0.980   Prob(JB):                     3.60e-11\n",
      "Kurtosis:                       5.775   Cond. No.                         1.16\n",
      "==============================================================================\n",
      "\n",
      "Notes:\n",
      "[1] Standard Errors are heteroscedasticity robust (HC1)\n"
     ]
    }
   ],
   "source": [
    "# Detailed Summary\n",
    "print(results_univariate.summary())"
   ]
  }
 ],
 "metadata": {
  "kernelspec": {
   "display_name": "base",
   "language": "python",
   "name": "python3"
  },
  "language_info": {
   "codemirror_mode": {
    "name": "ipython",
    "version": 3
   },
   "file_extension": ".py",
   "mimetype": "text/x-python",
   "name": "python",
   "nbconvert_exporter": "python",
   "pygments_lexer": "ipython3",
   "version": "3.11.5"
  },
  "orig_nbformat": 4,
  "vscode": {
   "interpreter": {
    "hash": "45fc1f684f6f416f40889115beff3ddf69879b64cf4bfee48cb72a61e9d15d1a"
   }
  }
 },
 "nbformat": 4,
 "nbformat_minor": 2
}
